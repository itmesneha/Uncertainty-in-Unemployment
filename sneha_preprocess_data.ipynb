{
 "cells": [
  {
   "cell_type": "code",
   "execution_count": null,
   "metadata": {},
   "outputs": [
    {
     "name": "stdout",
     "output_type": "stream",
     "text": [
      "Collecting ipfn\n",
      "  Using cached ipfn-1.4.4-py2.py3-none-any.whl.metadata (7.9 kB)\n",
      "Requirement already satisfied: pandas>=0.22.0 in /Users/snehas/miniconda3/lib/python3.12/site-packages (from ipfn) (2.2.3)\n",
      "Requirement already satisfied: numpy in /Users/snehas/miniconda3/lib/python3.12/site-packages (from ipfn) (1.26.4)\n",
      "Requirement already satisfied: python-dateutil>=2.8.2 in /Users/snehas/miniconda3/lib/python3.12/site-packages (from pandas>=0.22.0->ipfn) (2.9.0.post0)\n",
      "Requirement already satisfied: pytz>=2020.1 in /Users/snehas/miniconda3/lib/python3.12/site-packages (from pandas>=0.22.0->ipfn) (2025.2)\n",
      "Requirement already satisfied: tzdata>=2022.7 in /Users/snehas/miniconda3/lib/python3.12/site-packages (from pandas>=0.22.0->ipfn) (2025.2)\n",
      "Requirement already satisfied: six>=1.5 in /Users/snehas/miniconda3/lib/python3.12/site-packages (from python-dateutil>=2.8.2->pandas>=0.22.0->ipfn) (1.17.0)\n",
      "Using cached ipfn-1.4.4-py2.py3-none-any.whl (7.4 kB)\n",
      "Installing collected packages: ipfn\n",
      "Successfully installed ipfn-1.4.4\n"
     ]
    }
   ],
   "source": [
    "# !pip install ipfn"
   ]
  },
  {
   "cell_type": "code",
   "execution_count": 2,
   "metadata": {},
   "outputs": [],
   "source": [
    "import requests\n",
    "import pandas as pd\n",
    "import numpy as np\n",
    "import ipfn"
   ]
  },
  {
   "cell_type": "markdown",
   "metadata": {},
   "source": [
    "## Loading the data"
   ]
  },
  {
   "cell_type": "code",
   "execution_count": 3,
   "metadata": {},
   "outputs": [],
   "source": [
    "def get_data(dataset_id, sample=None):\n",
    "    url = \"https://data.gov.sg/api/action/datastore_search?resource_id=\" + dataset_id\n",
    "    params = {'offset': 0}\n",
    "    dfs = []\n",
    "\n",
    "    while True:\n",
    "        response = requests.get(url, params=params).json()\n",
    "        df = pd.DataFrame(response['result']['records'])\n",
    "        dfs.append(df)\n",
    "        if response['result']['_links']['next'] is None or (sample is not None and len(dfs) * 100 >= sample):\n",
    "            break\n",
    "        params['offset'] += 100  # assuming 100 records per page\n",
    "\n",
    "    full_df = pd.concat(dfs, ignore_index=True)\n",
    "    if sample is not None:\n",
    "        full_df = full_df.head(sample)\n",
    "    full_df = full_df.drop(['_id'], axis=1)\n",
    "    return full_df"
   ]
  },
  {
   "cell_type": "code",
   "execution_count": 4,
   "metadata": {},
   "outputs": [],
   "source": [
    "#age with unemployment duration\n",
    "dataset_id_1 = \"d_db95e15ceffaa368a043310479dc7d57\"\n",
    "sex_age_duration = get_data(dataset_id_1, 2000)\n",
    "\n",
    "#highest education with unemployment duration\n",
    "dataset_id_2 = \"d_a0ca632fd1d6ff841f0e47298a9ab589\"\n",
    "sex_qualification_duration = get_data(dataset_id_2, 2000)\n",
    "\n",
    "#median duration of unemployment\n",
    "dataset_id_3 = \"d_c01a3210fb10f1a52676f97498d4ec2c\"\n",
    "median_duration = get_data(dataset_id_3, 2000)\n",
    "\n",
    "\n"
   ]
  },
  {
   "cell_type": "code",
   "execution_count": 5,
   "metadata": {},
   "outputs": [
    {
     "data": {
      "text/html": [
       "<div>\n",
       "<style scoped>\n",
       "    .dataframe tbody tr th:only-of-type {\n",
       "        vertical-align: middle;\n",
       "    }\n",
       "\n",
       "    .dataframe tbody tr th {\n",
       "        vertical-align: top;\n",
       "    }\n",
       "\n",
       "    .dataframe thead th {\n",
       "        text-align: right;\n",
       "    }\n",
       "</style>\n",
       "<table border=\"1\" class=\"dataframe\">\n",
       "  <thead>\n",
       "    <tr style=\"text-align: right;\">\n",
       "      <th></th>\n",
       "      <th>year</th>\n",
       "      <th>sex</th>\n",
       "      <th>age</th>\n",
       "      <th>duration</th>\n",
       "      <th>unemployed</th>\n",
       "    </tr>\n",
       "  </thead>\n",
       "  <tbody>\n",
       "    <tr>\n",
       "      <th>0</th>\n",
       "      <td>2010</td>\n",
       "      <td>male</td>\n",
       "      <td>15-24</td>\n",
       "      <td>under 5</td>\n",
       "      <td>4700</td>\n",
       "    </tr>\n",
       "    <tr>\n",
       "      <th>1</th>\n",
       "      <td>2010</td>\n",
       "      <td>male</td>\n",
       "      <td>15-24</td>\n",
       "      <td>5 to 9</td>\n",
       "      <td>1700</td>\n",
       "    </tr>\n",
       "    <tr>\n",
       "      <th>2</th>\n",
       "      <td>2010</td>\n",
       "      <td>male</td>\n",
       "      <td>15-24</td>\n",
       "      <td>10 to 14</td>\n",
       "      <td>700</td>\n",
       "    </tr>\n",
       "    <tr>\n",
       "      <th>3</th>\n",
       "      <td>2010</td>\n",
       "      <td>male</td>\n",
       "      <td>15-24</td>\n",
       "      <td>15 to 19</td>\n",
       "      <td>200</td>\n",
       "    </tr>\n",
       "    <tr>\n",
       "      <th>4</th>\n",
       "      <td>2010</td>\n",
       "      <td>male</td>\n",
       "      <td>15-24</td>\n",
       "      <td>20 to 24</td>\n",
       "      <td>500</td>\n",
       "    </tr>\n",
       "  </tbody>\n",
       "</table>\n",
       "</div>"
      ],
      "text/plain": [
       "   year   sex    age  duration unemployed\n",
       "0  2010  male  15-24   under 5       4700\n",
       "1  2010  male  15-24    5 to 9       1700\n",
       "2  2010  male  15-24  10 to 14        700\n",
       "3  2010  male  15-24  15 to 19        200\n",
       "4  2010  male  15-24  20 to 24        500"
      ]
     },
     "execution_count": 5,
     "metadata": {},
     "output_type": "execute_result"
    }
   ],
   "source": [
    "sex_age_duration.head()"
   ]
  },
  {
   "cell_type": "code",
   "execution_count": 6,
   "metadata": {},
   "outputs": [
    {
     "data": {
      "text/html": [
       "<div>\n",
       "<style scoped>\n",
       "    .dataframe tbody tr th:only-of-type {\n",
       "        vertical-align: middle;\n",
       "    }\n",
       "\n",
       "    .dataframe tbody tr th {\n",
       "        vertical-align: top;\n",
       "    }\n",
       "\n",
       "    .dataframe thead th {\n",
       "        text-align: right;\n",
       "    }\n",
       "</style>\n",
       "<table border=\"1\" class=\"dataframe\">\n",
       "  <thead>\n",
       "    <tr style=\"text-align: right;\">\n",
       "      <th></th>\n",
       "      <th>year</th>\n",
       "      <th>sex</th>\n",
       "      <th>highest_qualification</th>\n",
       "      <th>duration</th>\n",
       "      <th>unemployed</th>\n",
       "    </tr>\n",
       "  </thead>\n",
       "  <tbody>\n",
       "    <tr>\n",
       "      <th>0</th>\n",
       "      <td>2010</td>\n",
       "      <td>male</td>\n",
       "      <td>primary and below</td>\n",
       "      <td>under 5</td>\n",
       "      <td>2600</td>\n",
       "    </tr>\n",
       "    <tr>\n",
       "      <th>1</th>\n",
       "      <td>2010</td>\n",
       "      <td>male</td>\n",
       "      <td>primary and below</td>\n",
       "      <td>5 to 9</td>\n",
       "      <td>900</td>\n",
       "    </tr>\n",
       "    <tr>\n",
       "      <th>2</th>\n",
       "      <td>2010</td>\n",
       "      <td>male</td>\n",
       "      <td>primary and below</td>\n",
       "      <td>10 to 14</td>\n",
       "      <td>900</td>\n",
       "    </tr>\n",
       "    <tr>\n",
       "      <th>3</th>\n",
       "      <td>2010</td>\n",
       "      <td>male</td>\n",
       "      <td>primary and below</td>\n",
       "      <td>15 to 19</td>\n",
       "      <td>500</td>\n",
       "    </tr>\n",
       "    <tr>\n",
       "      <th>4</th>\n",
       "      <td>2010</td>\n",
       "      <td>male</td>\n",
       "      <td>primary and below</td>\n",
       "      <td>20 to 24</td>\n",
       "      <td>1300</td>\n",
       "    </tr>\n",
       "  </tbody>\n",
       "</table>\n",
       "</div>"
      ],
      "text/plain": [
       "   year   sex highest_qualification  duration unemployed\n",
       "0  2010  male     primary and below   under 5       2600\n",
       "1  2010  male     primary and below    5 to 9        900\n",
       "2  2010  male     primary and below  10 to 14        900\n",
       "3  2010  male     primary and below  15 to 19        500\n",
       "4  2010  male     primary and below  20 to 24       1300"
      ]
     },
     "execution_count": 6,
     "metadata": {},
     "output_type": "execute_result"
    }
   ],
   "source": [
    "sex_qualification_duration.head()"
   ]
  },
  {
   "cell_type": "code",
   "execution_count": 7,
   "metadata": {},
   "outputs": [
    {
     "data": {
      "text/html": [
       "<div>\n",
       "<style scoped>\n",
       "    .dataframe tbody tr th:only-of-type {\n",
       "        vertical-align: middle;\n",
       "    }\n",
       "\n",
       "    .dataframe tbody tr th {\n",
       "        vertical-align: top;\n",
       "    }\n",
       "\n",
       "    .dataframe thead th {\n",
       "        text-align: right;\n",
       "    }\n",
       "</style>\n",
       "<table border=\"1\" class=\"dataframe\">\n",
       "  <thead>\n",
       "    <tr style=\"text-align: right;\">\n",
       "      <th></th>\n",
       "      <th>year</th>\n",
       "      <th>median_dur_of_unemp</th>\n",
       "    </tr>\n",
       "  </thead>\n",
       "  <tbody>\n",
       "    <tr>\n",
       "      <th>0</th>\n",
       "      <td>1991</td>\n",
       "      <td>8</td>\n",
       "    </tr>\n",
       "    <tr>\n",
       "      <th>1</th>\n",
       "      <td>1992</td>\n",
       "      <td>6</td>\n",
       "    </tr>\n",
       "    <tr>\n",
       "      <th>2</th>\n",
       "      <td>1993</td>\n",
       "      <td>6</td>\n",
       "    </tr>\n",
       "    <tr>\n",
       "      <th>3</th>\n",
       "      <td>1994</td>\n",
       "      <td>4</td>\n",
       "    </tr>\n",
       "    <tr>\n",
       "      <th>4</th>\n",
       "      <td>1996</td>\n",
       "      <td>4</td>\n",
       "    </tr>\n",
       "  </tbody>\n",
       "</table>\n",
       "</div>"
      ],
      "text/plain": [
       "   year median_dur_of_unemp\n",
       "0  1991                   8\n",
       "1  1992                   6\n",
       "2  1993                   6\n",
       "3  1994                   4\n",
       "4  1996                   4"
      ]
     },
     "execution_count": 7,
     "metadata": {},
     "output_type": "execute_result"
    }
   ],
   "source": [
    "median_duration.head()"
   ]
  },
  {
   "cell_type": "code",
   "execution_count": 8,
   "metadata": {},
   "outputs": [],
   "source": [
    "sex_qualification_duration['unemployed'] = pd.to_numeric(sex_qualification_duration['unemployed'], errors='coerce')\n",
    "sex_qualification_duration['unemployed'] = pd.to_numeric(sex_qualification_duration['unemployed'], errors='coerce')"
   ]
  },
  {
   "cell_type": "markdown",
   "metadata": {},
   "source": [
    "## Merging data"
   ]
  },
  {
   "cell_type": "code",
   "execution_count": 9,
   "metadata": {},
   "outputs": [],
   "source": [
    "merged_data = pd.merge(sex_age_duration, sex_qualification_duration, on=['year', 'duration'])\n",
    "merged_data = pd.merge(merged_data, median_duration, on='year', how='inner')"
   ]
  },
  {
   "cell_type": "markdown",
   "metadata": {},
   "source": [
    "## Preprocessing the data"
   ]
  },
  {
   "cell_type": "code",
   "execution_count": 10,
   "metadata": {},
   "outputs": [],
   "source": [
    "## getting duration midpoint\n",
    "def create_duration_midpoints(df):\n",
    "    midpoints = {}\n",
    "    for category in df[\"duration\"].unique():\n",
    "        if category == \"under 5\":\n",
    "            midpoint = 2.5\n",
    "        elif category == \"52 and over\":\n",
    "            midpoint = 52 + (104 - 52) / 2  # assuming the upper limit is 104\n",
    "        else:\n",
    "            lower, upper = map(int, category.split(\" to \"))\n",
    "            midpoint = (lower + upper) / 2\n",
    "        midpoints[category] = midpoint\n",
    "    return midpoints\n",
    "\n",
    "\n"
   ]
  },
  {
   "cell_type": "code",
   "execution_count": 11,
   "metadata": {},
   "outputs": [
    {
     "data": {
      "text/html": [
       "<div>\n",
       "<style scoped>\n",
       "    .dataframe tbody tr th:only-of-type {\n",
       "        vertical-align: middle;\n",
       "    }\n",
       "\n",
       "    .dataframe tbody tr th {\n",
       "        vertical-align: top;\n",
       "    }\n",
       "\n",
       "    .dataframe thead th {\n",
       "        text-align: right;\n",
       "    }\n",
       "</style>\n",
       "<table border=\"1\" class=\"dataframe\">\n",
       "  <thead>\n",
       "    <tr style=\"text-align: right;\">\n",
       "      <th></th>\n",
       "      <th>year</th>\n",
       "      <th>sex_x</th>\n",
       "      <th>age</th>\n",
       "      <th>duration</th>\n",
       "      <th>unemployed_x</th>\n",
       "      <th>sex_y</th>\n",
       "      <th>highest_qualification</th>\n",
       "      <th>unemployed_y</th>\n",
       "      <th>median_dur_of_unemp</th>\n",
       "      <th>duration_midpoint</th>\n",
       "      <th>censored</th>\n",
       "    </tr>\n",
       "  </thead>\n",
       "  <tbody>\n",
       "    <tr>\n",
       "      <th>0</th>\n",
       "      <td>2010</td>\n",
       "      <td>male</td>\n",
       "      <td>15-24</td>\n",
       "      <td>under 5</td>\n",
       "      <td>4700</td>\n",
       "      <td>male</td>\n",
       "      <td>primary and below</td>\n",
       "      <td>2600.0</td>\n",
       "      <td>8</td>\n",
       "      <td>2.5</td>\n",
       "      <td>0</td>\n",
       "    </tr>\n",
       "    <tr>\n",
       "      <th>1</th>\n",
       "      <td>2010</td>\n",
       "      <td>male</td>\n",
       "      <td>15-24</td>\n",
       "      <td>under 5</td>\n",
       "      <td>4700</td>\n",
       "      <td>male</td>\n",
       "      <td>lower secondary</td>\n",
       "      <td>2200.0</td>\n",
       "      <td>8</td>\n",
       "      <td>2.5</td>\n",
       "      <td>0</td>\n",
       "    </tr>\n",
       "    <tr>\n",
       "      <th>2</th>\n",
       "      <td>2010</td>\n",
       "      <td>male</td>\n",
       "      <td>15-24</td>\n",
       "      <td>under 5</td>\n",
       "      <td>4700</td>\n",
       "      <td>male</td>\n",
       "      <td>secondary</td>\n",
       "      <td>2600.0</td>\n",
       "      <td>8</td>\n",
       "      <td>2.5</td>\n",
       "      <td>0</td>\n",
       "    </tr>\n",
       "    <tr>\n",
       "      <th>3</th>\n",
       "      <td>2010</td>\n",
       "      <td>male</td>\n",
       "      <td>15-24</td>\n",
       "      <td>under 5</td>\n",
       "      <td>4700</td>\n",
       "      <td>male</td>\n",
       "      <td>post-secondary (non-tertiary)</td>\n",
       "      <td>3000.0</td>\n",
       "      <td>8</td>\n",
       "      <td>2.5</td>\n",
       "      <td>0</td>\n",
       "    </tr>\n",
       "    <tr>\n",
       "      <th>4</th>\n",
       "      <td>2010</td>\n",
       "      <td>male</td>\n",
       "      <td>15-24</td>\n",
       "      <td>under 5</td>\n",
       "      <td>4700</td>\n",
       "      <td>male</td>\n",
       "      <td>diploma and professional qualification</td>\n",
       "      <td>3200.0</td>\n",
       "      <td>8</td>\n",
       "      <td>2.5</td>\n",
       "      <td>0</td>\n",
       "    </tr>\n",
       "  </tbody>\n",
       "</table>\n",
       "</div>"
      ],
      "text/plain": [
       "   year sex_x    age duration unemployed_x sex_y  \\\n",
       "0  2010  male  15-24  under 5         4700  male   \n",
       "1  2010  male  15-24  under 5         4700  male   \n",
       "2  2010  male  15-24  under 5         4700  male   \n",
       "3  2010  male  15-24  under 5         4700  male   \n",
       "4  2010  male  15-24  under 5         4700  male   \n",
       "\n",
       "                    highest_qualification  unemployed_y median_dur_of_unemp  \\\n",
       "0                       primary and below        2600.0                   8   \n",
       "1                         lower secondary        2200.0                   8   \n",
       "2                               secondary        2600.0                   8   \n",
       "3           post-secondary (non-tertiary)        3000.0                   8   \n",
       "4  diploma and professional qualification        3200.0                   8   \n",
       "\n",
       "   duration_midpoint  censored  \n",
       "0                2.5         0  \n",
       "1                2.5         0  \n",
       "2                2.5         0  \n",
       "3                2.5         0  \n",
       "4                2.5         0  "
      ]
     },
     "execution_count": 11,
     "metadata": {},
     "output_type": "execute_result"
    }
   ],
   "source": [
    "midpoint_dict = create_duration_midpoints(merged_data)\n",
    "merged_data['duration_midpoint'] = merged_data['duration'].map(midpoint_dict)\n",
    "merged_data['censored'] = merged_data['duration'].map(lambda x: 1 if x == \"52 and over\" else 0)\n",
    "merged_data.head()"
   ]
  },
  {
   "cell_type": "code",
   "execution_count": 12,
   "metadata": {},
   "outputs": [],
   "source": [
    "sexes = sorted(sex_age_duration['sex'].unique())\n",
    "ages = sorted(sex_age_duration['age'].unique())\n",
    "edus = sorted(sex_qualification_duration['highest_qualification'].unique())\n",
    "durations = sorted(sex_age_duration['duration'].unique())\n",
    "\n",
    "dims = ['sex', 'age', 'education', 'duration']\n",
    "shape = (len(sexes), len(ages), len(edus), len(durations))"
   ]
  },
  {
   "cell_type": "code",
   "execution_count": 13,
   "metadata": {},
   "outputs": [],
   "source": [
    "seed = np.ones(shape)"
   ]
  },
  {
   "cell_type": "code",
   "execution_count": 14,
   "metadata": {},
   "outputs": [],
   "source": [
    "marg1 = sex_age_duration.groupby(['sex', 'age', 'duration'])['unemployed'].sum().reset_index()\n",
    "marg1 = marg1.rename(columns={'unemployed': 'value'})"
   ]
  },
  {
   "cell_type": "code",
   "execution_count": 15,
   "metadata": {},
   "outputs": [],
   "source": [
    "marg2 = sex_qualification_duration.groupby(['sex', 'highest_qualification', 'duration'])['unemployed'].sum().reset_index()\n",
    "marg2 = marg2.rename(columns={'highest_qualification': 'education', 'unemployed': 'value'})"
   ]
  },
  {
   "cell_type": "code",
   "execution_count": 17,
   "metadata": {},
   "outputs": [
    {
     "ename": "TypeError",
     "evalue": "ipfn.__init__() got multiple values for argument 'aggregates'",
     "output_type": "error",
     "traceback": [
      "\u001b[31m---------------------------------------------------------------------------\u001b[39m",
      "\u001b[31mTypeError\u001b[39m                                 Traceback (most recent call last)",
      "\u001b[36mCell\u001b[39m\u001b[36m \u001b[39m\u001b[32mIn[17]\u001b[39m\u001b[32m, line 1\u001b[39m\n\u001b[32m----> \u001b[39m\u001b[32m1\u001b[39m ipf_instance = \u001b[43mipfn\u001b[49m\u001b[43m.\u001b[49m\u001b[43mipfn\u001b[49m\u001b[43m.\u001b[49m\u001b[43mipfn\u001b[49m\u001b[43m(\u001b[49m\u001b[43mseed\u001b[49m\u001b[43m,\u001b[49m\n\u001b[32m      2\u001b[39m \u001b[43m                    \u001b[49m\u001b[43m[\u001b[49m\u001b[43mmarg1\u001b[49m\u001b[43m,\u001b[49m\u001b[43m \u001b[49m\u001b[43mmarg2\u001b[49m\u001b[43m]\u001b[49m\u001b[43m,\u001b[49m\u001b[43m  \u001b[49m\u001b[38;5;66;43;03m# list of marginals\u001b[39;49;00m\n\u001b[32m      3\u001b[39m \u001b[43m                    \u001b[49m\u001b[43m[\u001b[49m\u001b[43m[\u001b[49m\u001b[32;43m0\u001b[39;49m\u001b[43m,\u001b[49m\u001b[43m \u001b[49m\u001b[32;43m1\u001b[39;49m\u001b[43m,\u001b[49m\u001b[43m \u001b[49m\u001b[32;43m3\u001b[39;49m\u001b[43m]\u001b[49m\u001b[43m,\u001b[49m\u001b[43m \u001b[49m\u001b[43m[\u001b[49m\u001b[32;43m0\u001b[39;49m\u001b[43m,\u001b[49m\u001b[43m \u001b[49m\u001b[32;43m2\u001b[39;49m\u001b[43m,\u001b[49m\u001b[43m \u001b[49m\u001b[32;43m3\u001b[39;49m\u001b[43m]\u001b[49m\u001b[43m]\u001b[49m\u001b[43m,\u001b[49m\u001b[43m  \u001b[49m\u001b[38;5;66;43;03m# dimensions to match in each marginal\u001b[39;49;00m\n\u001b[32m      4\u001b[39m \u001b[43m                    \u001b[49m\u001b[43maggregates\u001b[49m\u001b[43m=\u001b[49m\u001b[33;43m'\u001b[39;49m\u001b[33;43msum\u001b[39;49m\u001b[33;43m'\u001b[39;49m\u001b[43m)\u001b[49m\n\u001b[32m      6\u001b[39m fitted = ipf_instance.iteration()\n",
      "\u001b[31mTypeError\u001b[39m: ipfn.__init__() got multiple values for argument 'aggregates'"
     ]
    }
   ],
   "source": [
    "ipf_instance = ipfn.ipfn.ipfn(seed,\n",
    "                    [marg1, marg2],  # list of marginals\n",
    "                    [[0, 1, 3], [0, 2, 3]],  # dimensions to match in each marginal\n",
    "                    aggregates='sum')\n",
    "\n",
    "fitted = ipf_instance.iteration()"
   ]
  },
  {
   "cell_type": "code",
   "execution_count": null,
   "metadata": {},
   "outputs": [],
   "source": []
  },
  {
   "cell_type": "code",
   "execution_count": null,
   "metadata": {},
   "outputs": [],
   "source": []
  }
 ],
 "metadata": {
  "kernelspec": {
   "display_name": "Python 3",
   "language": "python",
   "name": "python3"
  },
  "language_info": {
   "codemirror_mode": {
    "name": "ipython",
    "version": 3
   },
   "file_extension": ".py",
   "mimetype": "text/x-python",
   "name": "python",
   "nbconvert_exporter": "python",
   "pygments_lexer": "ipython3",
   "version": "3.12.2"
  }
 },
 "nbformat": 4,
 "nbformat_minor": 2
}
