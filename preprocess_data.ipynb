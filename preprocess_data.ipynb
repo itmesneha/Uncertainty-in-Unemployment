{
 "cells": [
  {
   "cell_type": "code",
   "execution_count": 60,
   "metadata": {},
   "outputs": [
    {
     "name": "stdout",
     "output_type": "stream",
     "text": [
      "Collecting ipfn\n",
      "  Downloading ipfn-1.4.4-py2.py3-none-any.whl.metadata (7.9 kB)\n",
      "Requirement already satisfied: pandas>=0.22.0 in /Users/prerana1298/miniconda3/lib/python3.12/site-packages (from ipfn) (2.2.2)\n",
      "Requirement already satisfied: numpy in /Users/prerana1298/miniconda3/lib/python3.12/site-packages (from ipfn) (1.26.4)\n",
      "Requirement already satisfied: python-dateutil>=2.8.2 in /Users/prerana1298/miniconda3/lib/python3.12/site-packages (from pandas>=0.22.0->ipfn) (2.9.0.post0)\n",
      "Requirement already satisfied: pytz>=2020.1 in /Users/prerana1298/miniconda3/lib/python3.12/site-packages (from pandas>=0.22.0->ipfn) (2024.1)\n",
      "Requirement already satisfied: tzdata>=2022.7 in /Users/prerana1298/miniconda3/lib/python3.12/site-packages (from pandas>=0.22.0->ipfn) (2025.1)\n",
      "Requirement already satisfied: six>=1.5 in /Users/prerana1298/miniconda3/lib/python3.12/site-packages (from python-dateutil>=2.8.2->pandas>=0.22.0->ipfn) (1.16.0)\n",
      "Downloading ipfn-1.4.4-py2.py3-none-any.whl (7.4 kB)\n",
      "Installing collected packages: ipfn\n",
      "Successfully installed ipfn-1.4.4\n",
      "Note: you may need to restart the kernel to use updated packages.\n"
     ]
    }
   ],
   "source": [
    "%pip install ipfn"
   ]
  },
  {
   "cell_type": "code",
   "execution_count": 1,
   "metadata": {},
   "outputs": [],
   "source": [
    "import requests\n",
    "import pandas as pd\n",
    "import ipfn\n"
   ]
  },
  {
   "cell_type": "markdown",
   "metadata": {},
   "source": [
    "## Loading the data"
   ]
  },
  {
   "cell_type": "code",
   "execution_count": 2,
   "metadata": {},
   "outputs": [],
   "source": [
    "def get_data(dataset_id, sample=None):\n",
    "    url = \"https://data.gov.sg/api/action/datastore_search?resource_id=\" + dataset_id\n",
    "    params = {'offset': 0}\n",
    "    dfs = []\n",
    "\n",
    "    while True:\n",
    "        response = requests.get(url, params=params).json()\n",
    "        df = pd.DataFrame(response['result']['records'])\n",
    "        dfs.append(df)\n",
    "        if response['result']['_links']['next'] is None or (sample is not None and len(dfs) * 100 >= sample):\n",
    "            break\n",
    "        params['offset'] += 100  # assuming 100 records per page\n",
    "\n",
    "    full_df = pd.concat(dfs, ignore_index=True)\n",
    "    if sample is not None:\n",
    "        full_df = full_df.head(sample)\n",
    "    full_df = full_df.drop(['_id'], axis=1)\n",
    "    return full_df"
   ]
  },
  {
   "cell_type": "code",
   "execution_count": 3,
   "metadata": {},
   "outputs": [],
   "source": [
    "#age with unemployment duration\n",
    "dataset_id_1 = \"d_db95e15ceffaa368a043310479dc7d57\"\n",
    "data_1 = get_data(dataset_id_1, 2000)\n",
    "\n",
    "#highest education with unemployment duration\n",
    "dataset_id_2 = \"d_a0ca632fd1d6ff841f0e47298a9ab589\"\n",
    "data_2 = get_data(dataset_id_2, 2000)\n",
    "\n",
    "#median duration of unemployment\n",
    "dataset_id_3 = \"d_c01a3210fb10f1a52676f97498d4ec2c\"\n",
    "data_3 = get_data(dataset_id_3, 2000)\n",
    "\n",
    "\n"
   ]
  },
  {
   "cell_type": "code",
   "execution_count": 4,
   "metadata": {},
   "outputs": [
    {
     "data": {
      "text/html": [
       "<div>\n",
       "<style scoped>\n",
       "    .dataframe tbody tr th:only-of-type {\n",
       "        vertical-align: middle;\n",
       "    }\n",
       "\n",
       "    .dataframe tbody tr th {\n",
       "        vertical-align: top;\n",
       "    }\n",
       "\n",
       "    .dataframe thead th {\n",
       "        text-align: right;\n",
       "    }\n",
       "</style>\n",
       "<table border=\"1\" class=\"dataframe\">\n",
       "  <thead>\n",
       "    <tr style=\"text-align: right;\">\n",
       "      <th></th>\n",
       "      <th>year</th>\n",
       "      <th>sex</th>\n",
       "      <th>age</th>\n",
       "      <th>duration</th>\n",
       "      <th>unemployed</th>\n",
       "    </tr>\n",
       "  </thead>\n",
       "  <tbody>\n",
       "    <tr>\n",
       "      <th>0</th>\n",
       "      <td>2010</td>\n",
       "      <td>male</td>\n",
       "      <td>15-24</td>\n",
       "      <td>under 5</td>\n",
       "      <td>4700</td>\n",
       "    </tr>\n",
       "    <tr>\n",
       "      <th>1</th>\n",
       "      <td>2010</td>\n",
       "      <td>male</td>\n",
       "      <td>15-24</td>\n",
       "      <td>5 to 9</td>\n",
       "      <td>1700</td>\n",
       "    </tr>\n",
       "    <tr>\n",
       "      <th>2</th>\n",
       "      <td>2010</td>\n",
       "      <td>male</td>\n",
       "      <td>15-24</td>\n",
       "      <td>10 to 14</td>\n",
       "      <td>700</td>\n",
       "    </tr>\n",
       "    <tr>\n",
       "      <th>3</th>\n",
       "      <td>2010</td>\n",
       "      <td>male</td>\n",
       "      <td>15-24</td>\n",
       "      <td>15 to 19</td>\n",
       "      <td>200</td>\n",
       "    </tr>\n",
       "    <tr>\n",
       "      <th>4</th>\n",
       "      <td>2010</td>\n",
       "      <td>male</td>\n",
       "      <td>15-24</td>\n",
       "      <td>20 to 24</td>\n",
       "      <td>500</td>\n",
       "    </tr>\n",
       "  </tbody>\n",
       "</table>\n",
       "</div>"
      ],
      "text/plain": [
       "   year   sex    age  duration unemployed\n",
       "0  2010  male  15-24   under 5       4700\n",
       "1  2010  male  15-24    5 to 9       1700\n",
       "2  2010  male  15-24  10 to 14        700\n",
       "3  2010  male  15-24  15 to 19        200\n",
       "4  2010  male  15-24  20 to 24        500"
      ]
     },
     "execution_count": 4,
     "metadata": {},
     "output_type": "execute_result"
    }
   ],
   "source": [
    "data_1.head()"
   ]
  },
  {
   "cell_type": "code",
   "execution_count": 5,
   "metadata": {},
   "outputs": [
    {
     "data": {
      "text/html": [
       "<div>\n",
       "<style scoped>\n",
       "    .dataframe tbody tr th:only-of-type {\n",
       "        vertical-align: middle;\n",
       "    }\n",
       "\n",
       "    .dataframe tbody tr th {\n",
       "        vertical-align: top;\n",
       "    }\n",
       "\n",
       "    .dataframe thead th {\n",
       "        text-align: right;\n",
       "    }\n",
       "</style>\n",
       "<table border=\"1\" class=\"dataframe\">\n",
       "  <thead>\n",
       "    <tr style=\"text-align: right;\">\n",
       "      <th></th>\n",
       "      <th>year</th>\n",
       "      <th>sex</th>\n",
       "      <th>highest_qualification</th>\n",
       "      <th>duration</th>\n",
       "      <th>unemployed</th>\n",
       "    </tr>\n",
       "  </thead>\n",
       "  <tbody>\n",
       "    <tr>\n",
       "      <th>0</th>\n",
       "      <td>2010</td>\n",
       "      <td>male</td>\n",
       "      <td>primary and below</td>\n",
       "      <td>under 5</td>\n",
       "      <td>2600</td>\n",
       "    </tr>\n",
       "    <tr>\n",
       "      <th>1</th>\n",
       "      <td>2010</td>\n",
       "      <td>male</td>\n",
       "      <td>primary and below</td>\n",
       "      <td>5 to 9</td>\n",
       "      <td>900</td>\n",
       "    </tr>\n",
       "    <tr>\n",
       "      <th>2</th>\n",
       "      <td>2010</td>\n",
       "      <td>male</td>\n",
       "      <td>primary and below</td>\n",
       "      <td>10 to 14</td>\n",
       "      <td>900</td>\n",
       "    </tr>\n",
       "    <tr>\n",
       "      <th>3</th>\n",
       "      <td>2010</td>\n",
       "      <td>male</td>\n",
       "      <td>primary and below</td>\n",
       "      <td>15 to 19</td>\n",
       "      <td>500</td>\n",
       "    </tr>\n",
       "    <tr>\n",
       "      <th>4</th>\n",
       "      <td>2010</td>\n",
       "      <td>male</td>\n",
       "      <td>primary and below</td>\n",
       "      <td>20 to 24</td>\n",
       "      <td>1300</td>\n",
       "    </tr>\n",
       "  </tbody>\n",
       "</table>\n",
       "</div>"
      ],
      "text/plain": [
       "   year   sex highest_qualification  duration unemployed\n",
       "0  2010  male     primary and below   under 5       2600\n",
       "1  2010  male     primary and below    5 to 9        900\n",
       "2  2010  male     primary and below  10 to 14        900\n",
       "3  2010  male     primary and below  15 to 19        500\n",
       "4  2010  male     primary and below  20 to 24       1300"
      ]
     },
     "execution_count": 5,
     "metadata": {},
     "output_type": "execute_result"
    }
   ],
   "source": [
    "data_2.head()"
   ]
  },
  {
   "cell_type": "code",
   "execution_count": 6,
   "metadata": {},
   "outputs": [
    {
     "data": {
      "text/html": [
       "<div>\n",
       "<style scoped>\n",
       "    .dataframe tbody tr th:only-of-type {\n",
       "        vertical-align: middle;\n",
       "    }\n",
       "\n",
       "    .dataframe tbody tr th {\n",
       "        vertical-align: top;\n",
       "    }\n",
       "\n",
       "    .dataframe thead th {\n",
       "        text-align: right;\n",
       "    }\n",
       "</style>\n",
       "<table border=\"1\" class=\"dataframe\">\n",
       "  <thead>\n",
       "    <tr style=\"text-align: right;\">\n",
       "      <th></th>\n",
       "      <th>year</th>\n",
       "      <th>median_dur_of_unemp</th>\n",
       "    </tr>\n",
       "  </thead>\n",
       "  <tbody>\n",
       "    <tr>\n",
       "      <th>0</th>\n",
       "      <td>1991</td>\n",
       "      <td>8</td>\n",
       "    </tr>\n",
       "    <tr>\n",
       "      <th>1</th>\n",
       "      <td>1992</td>\n",
       "      <td>6</td>\n",
       "    </tr>\n",
       "    <tr>\n",
       "      <th>2</th>\n",
       "      <td>1993</td>\n",
       "      <td>6</td>\n",
       "    </tr>\n",
       "    <tr>\n",
       "      <th>3</th>\n",
       "      <td>1994</td>\n",
       "      <td>4</td>\n",
       "    </tr>\n",
       "    <tr>\n",
       "      <th>4</th>\n",
       "      <td>1996</td>\n",
       "      <td>4</td>\n",
       "    </tr>\n",
       "  </tbody>\n",
       "</table>\n",
       "</div>"
      ],
      "text/plain": [
       "   year median_dur_of_unemp\n",
       "0  1991                   8\n",
       "1  1992                   6\n",
       "2  1993                   6\n",
       "3  1994                   4\n",
       "4  1996                   4"
      ]
     },
     "execution_count": 6,
     "metadata": {},
     "output_type": "execute_result"
    }
   ],
   "source": [
    "data_3.head()"
   ]
  },
  {
   "cell_type": "code",
   "execution_count": 7,
   "metadata": {},
   "outputs": [
    {
     "name": "stdout",
     "output_type": "stream",
     "text": [
      "['2010' '2011' '2012' '2013' '2014' '2015' '2016' '2017' '2018' '2019'\n",
      " '2020' '2021' '2022' '2023']\n",
      "['2010' '2011' '2012' '2013' '2014' '2015' '2016' '2017' '2018' '2019'\n",
      " '2020' '2021' '2022' '2023']\n",
      "['1991' '1992' '1993' '1994' '1996' '1997' '1998' '1999' '2001' '2002'\n",
      " '2003' '2004' '2006' '2007' '2008' '2009' '2010' '2011' '2012' '2013'\n",
      " '2014' '2015' '2016' '2017' '2018' '2019' '2020' '2021' '2022' '2023']\n"
     ]
    }
   ],
   "source": [
    "print(data_1[\"year\"].unique())\n",
    "print(data_2[\"year\"].unique())\n",
    "print(data_3[\"year\"].unique())"
   ]
  },
  {
   "cell_type": "markdown",
   "metadata": {},
   "source": [
    "## Merging data"
   ]
  },
  {
   "cell_type": "code",
   "execution_count": 22,
   "metadata": {},
   "outputs": [],
   "source": [
    "data_1[['unemployed', 'age']] = data_1[['unemployed', 'age']].apply(pd.to_numeric, errors='coerce')\n",
    "data_2[['unemployed']] = data_2[['unemployed']].apply(pd.to_numeric, errors='coerce')\n",
    "merged_data = pd.merge(data_1, data_2, on=['year', 'duration'])\n",
    "merged_data = pd.merge(merged_data, data_3, on='year', how='inner')"
   ]
  },
  {
   "cell_type": "markdown",
   "metadata": {},
   "source": [
    "## Preprocessing the data"
   ]
  },
  {
   "cell_type": "code",
   "execution_count": 9,
   "metadata": {},
   "outputs": [],
   "source": [
    "## getting duration midpoint\n",
    "def create_duration_midpoints(df):\n",
    "    midpoints = {}\n",
    "    for category in df[\"duration\"].unique():\n",
    "        if category == \"under 5\":\n",
    "            midpoint = 2.5\n",
    "        elif category == \"52 and over\":\n",
    "            midpoint = 52 + (104 - 52) / 2  # assuming the upper limit is 104\n",
    "        else:\n",
    "            lower, upper = map(int, category.split(\" to \"))\n",
    "            midpoint = (lower + upper) / 2\n",
    "        midpoints[category] = midpoint\n",
    "    return midpoints\n",
    "\n",
    "\n"
   ]
  },
  {
   "cell_type": "code",
   "execution_count": 23,
   "metadata": {},
   "outputs": [
    {
     "data": {
      "text/html": [
       "<div>\n",
       "<style scoped>\n",
       "    .dataframe tbody tr th:only-of-type {\n",
       "        vertical-align: middle;\n",
       "    }\n",
       "\n",
       "    .dataframe tbody tr th {\n",
       "        vertical-align: top;\n",
       "    }\n",
       "\n",
       "    .dataframe thead th {\n",
       "        text-align: right;\n",
       "    }\n",
       "</style>\n",
       "<table border=\"1\" class=\"dataframe\">\n",
       "  <thead>\n",
       "    <tr style=\"text-align: right;\">\n",
       "      <th></th>\n",
       "      <th>year</th>\n",
       "      <th>sex_x</th>\n",
       "      <th>age</th>\n",
       "      <th>duration</th>\n",
       "      <th>unemployed_x</th>\n",
       "      <th>sex_y</th>\n",
       "      <th>highest_qualification</th>\n",
       "      <th>unemployed_y</th>\n",
       "      <th>median_dur_of_unemp</th>\n",
       "      <th>duration_midpoint</th>\n",
       "      <th>censored</th>\n",
       "    </tr>\n",
       "  </thead>\n",
       "  <tbody>\n",
       "    <tr>\n",
       "      <th>0</th>\n",
       "      <td>2010</td>\n",
       "      <td>male</td>\n",
       "      <td>NaN</td>\n",
       "      <td>under 5</td>\n",
       "      <td>4700.0</td>\n",
       "      <td>male</td>\n",
       "      <td>primary and below</td>\n",
       "      <td>2600.0</td>\n",
       "      <td>8</td>\n",
       "      <td>2.5</td>\n",
       "      <td>0</td>\n",
       "    </tr>\n",
       "    <tr>\n",
       "      <th>1</th>\n",
       "      <td>2010</td>\n",
       "      <td>male</td>\n",
       "      <td>NaN</td>\n",
       "      <td>under 5</td>\n",
       "      <td>4700.0</td>\n",
       "      <td>male</td>\n",
       "      <td>lower secondary</td>\n",
       "      <td>2200.0</td>\n",
       "      <td>8</td>\n",
       "      <td>2.5</td>\n",
       "      <td>0</td>\n",
       "    </tr>\n",
       "    <tr>\n",
       "      <th>2</th>\n",
       "      <td>2010</td>\n",
       "      <td>male</td>\n",
       "      <td>NaN</td>\n",
       "      <td>under 5</td>\n",
       "      <td>4700.0</td>\n",
       "      <td>male</td>\n",
       "      <td>secondary</td>\n",
       "      <td>2600.0</td>\n",
       "      <td>8</td>\n",
       "      <td>2.5</td>\n",
       "      <td>0</td>\n",
       "    </tr>\n",
       "    <tr>\n",
       "      <th>3</th>\n",
       "      <td>2010</td>\n",
       "      <td>male</td>\n",
       "      <td>NaN</td>\n",
       "      <td>under 5</td>\n",
       "      <td>4700.0</td>\n",
       "      <td>male</td>\n",
       "      <td>post-secondary (non-tertiary)</td>\n",
       "      <td>3000.0</td>\n",
       "      <td>8</td>\n",
       "      <td>2.5</td>\n",
       "      <td>0</td>\n",
       "    </tr>\n",
       "    <tr>\n",
       "      <th>4</th>\n",
       "      <td>2010</td>\n",
       "      <td>male</td>\n",
       "      <td>NaN</td>\n",
       "      <td>under 5</td>\n",
       "      <td>4700.0</td>\n",
       "      <td>male</td>\n",
       "      <td>diploma and professional qualification</td>\n",
       "      <td>3200.0</td>\n",
       "      <td>8</td>\n",
       "      <td>2.5</td>\n",
       "      <td>0</td>\n",
       "    </tr>\n",
       "  </tbody>\n",
       "</table>\n",
       "</div>"
      ],
      "text/plain": [
       "   year sex_x  age duration  unemployed_x sex_y  \\\n",
       "0  2010  male  NaN  under 5        4700.0  male   \n",
       "1  2010  male  NaN  under 5        4700.0  male   \n",
       "2  2010  male  NaN  under 5        4700.0  male   \n",
       "3  2010  male  NaN  under 5        4700.0  male   \n",
       "4  2010  male  NaN  under 5        4700.0  male   \n",
       "\n",
       "                    highest_qualification  unemployed_y median_dur_of_unemp  \\\n",
       "0                       primary and below        2600.0                   8   \n",
       "1                         lower secondary        2200.0                   8   \n",
       "2                               secondary        2600.0                   8   \n",
       "3           post-secondary (non-tertiary)        3000.0                   8   \n",
       "4  diploma and professional qualification        3200.0                   8   \n",
       "\n",
       "   duration_midpoint  censored  \n",
       "0                2.5         0  \n",
       "1                2.5         0  \n",
       "2                2.5         0  \n",
       "3                2.5         0  \n",
       "4                2.5         0  "
      ]
     },
     "execution_count": 23,
     "metadata": {},
     "output_type": "execute_result"
    }
   ],
   "source": [
    "midpoint_dict = create_duration_midpoints(merged_data)\n",
    "merged_data['duration_midpoint'] = merged_data['duration'].map(midpoint_dict)\n",
    "merged_data['censored'] = merged_data['duration'].map(lambda x: 1 if x == \"52 and over\" else 0)\n",
    "merged_data.head()"
   ]
  },
  {
   "cell_type": "code",
   "execution_count": 24,
   "metadata": {},
   "outputs": [
    {
     "name": "stdout",
     "output_type": "stream",
     "text": [
      "year           object\n",
      "sex            object\n",
      "age           float64\n",
      "duration       object\n",
      "unemployed    float64\n",
      "dtype: object\n"
     ]
    }
   ],
   "source": [
    "print(data_1.dtypes)"
   ]
  },
  {
   "cell_type": "code",
   "execution_count": 27,
   "metadata": {},
   "outputs": [
    {
     "name": "stdout",
     "output_type": "stream",
     "text": [
      "[]\n"
     ]
    }
   ],
   "source": [
    "# Marginal 1: age × sex (sum unemployed over duration)\n",
    "age_sex_marginal = data_1.groupby(['age', 'sex'])['unemployed'].sum().unstack().values\n",
    "print(age_sex_marginal)\n",
    "# Marginal 2: qualification × sex (sum unemployed over duration)\n",
    "qual_sex_marginal = data_2.groupby(['highest_qualification', 'sex'])['unemployed'].sum().unstack().values\n",
    "\n",
    "# Labels (for later reconstruction)\n",
    "age_labels = data_1['age'].unique()\n",
    "sex_labels = data_1['sex'].unique()\n",
    "qualification_labels = data_2['highest_qualification'].unique()\n",
    "\n",
    "num_qualifications = len(qualification_labels)\n",
    "num_ages = len(age_labels)\n",
    "num_sexes = len(sex_labels)\n"
   ]
  },
  {
   "cell_type": "code",
   "execution_count": 26,
   "metadata": {},
   "outputs": [
    {
     "name": "stdout",
     "output_type": "stream",
     "text": [
      "[[228400. 216800.]\n",
      " [141200. 130100.]\n",
      " [ 41800.  52900.]\n",
      " [ 81300.  95000.]\n",
      " [ 53500.  76200.]\n",
      " [121600. 117800.]]\n",
      "[]\n"
     ]
    },
    {
     "ename": "TypeError",
     "evalue": "'int' object is not iterable",
     "output_type": "error",
     "traceback": [
      "\u001b[0;31m---------------------------------------------------------------------------\u001b[0m",
      "\u001b[0;31mTypeError\u001b[0m                                 Traceback (most recent call last)",
      "Cell \u001b[0;32mIn[26], line 22\u001b[0m\n\u001b[1;32m     15\u001b[0m \u001b[38;5;66;03m# aggregates = [\u001b[39;00m\n\u001b[1;32m     16\u001b[0m \u001b[38;5;66;03m#     {'dim': [0, 2], 'total': qual_sex_marginal},   # qualification × sex\u001b[39;00m\n\u001b[1;32m     17\u001b[0m \u001b[38;5;66;03m#     {'dim': [1, 2], 'total': age_sex_marginal}    # age × sex\u001b[39;00m\n\u001b[1;32m     18\u001b[0m \u001b[38;5;66;03m# ]\u001b[39;00m\n\u001b[1;32m     19\u001b[0m \n\u001b[1;32m     20\u001b[0m \u001b[38;5;66;03m# Apply IPF\u001b[39;00m\n\u001b[1;32m     21\u001b[0m ipf_fitter \u001b[38;5;241m=\u001b[39m ipfn\u001b[38;5;241m.\u001b[39mipfn\u001b[38;5;241m.\u001b[39mipfn(initial_guess, aggregates, dimensions)\n\u001b[0;32m---> 22\u001b[0m fitted_joint \u001b[38;5;241m=\u001b[39m \u001b[43mipf_fitter\u001b[49m\u001b[38;5;241;43m.\u001b[39;49m\u001b[43miteration\u001b[49m\u001b[43m(\u001b[49m\u001b[43m)\u001b[49m\n\u001b[1;32m     24\u001b[0m \u001b[38;5;28mprint\u001b[39m(\u001b[38;5;124m\"\u001b[39m\u001b[38;5;124mFitted joint shape:\u001b[39m\u001b[38;5;124m\"\u001b[39m, fitted_joint\u001b[38;5;241m.\u001b[39mshape)  \u001b[38;5;66;03m# (qualifications, ages, sexes)\u001b[39;00m\n",
      "File \u001b[0;32m~/miniconda3/lib/python3.12/site-packages/ipfn/ipfn.py:274\u001b[0m, in \u001b[0;36mipfn.iteration\u001b[0;34m(self)\u001b[0m\n\u001b[1;32m    272\u001b[0m \u001b[38;5;28;01mwhile\u001b[39;00m ((i \u001b[38;5;241m<\u001b[39m\u001b[38;5;241m=\u001b[39m \u001b[38;5;28mself\u001b[39m\u001b[38;5;241m.\u001b[39mmax_itr \u001b[38;5;129;01mand\u001b[39;00m conv \u001b[38;5;241m>\u001b[39m \u001b[38;5;28mself\u001b[39m\u001b[38;5;241m.\u001b[39mconv_rate) \u001b[38;5;129;01mand\u001b[39;00m (i \u001b[38;5;241m<\u001b[39m\u001b[38;5;241m=\u001b[39m \u001b[38;5;28mself\u001b[39m\u001b[38;5;241m.\u001b[39mmax_itr \u001b[38;5;129;01mand\u001b[39;00m \u001b[38;5;28mabs\u001b[39m(conv \u001b[38;5;241m-\u001b[39m old_conv) \u001b[38;5;241m>\u001b[39m \u001b[38;5;28mself\u001b[39m\u001b[38;5;241m.\u001b[39mrate_tolerance)):\n\u001b[1;32m    273\u001b[0m     old_conv \u001b[38;5;241m=\u001b[39m conv\n\u001b[0;32m--> 274\u001b[0m     m, conv \u001b[38;5;241m=\u001b[39m \u001b[43mipfn_method\u001b[49m\u001b[43m(\u001b[49m\u001b[43mm\u001b[49m\u001b[43m,\u001b[49m\u001b[43m \u001b[49m\u001b[38;5;28;43mself\u001b[39;49m\u001b[38;5;241;43m.\u001b[39;49m\u001b[43maggregates\u001b[49m\u001b[43m,\u001b[49m\u001b[43m \u001b[49m\u001b[38;5;28;43mself\u001b[39;49m\u001b[38;5;241;43m.\u001b[39;49m\u001b[43mdimensions\u001b[49m\u001b[43m,\u001b[49m\u001b[43m \u001b[49m\u001b[38;5;28;43mself\u001b[39;49m\u001b[38;5;241;43m.\u001b[39;49m\u001b[43mweight_col\u001b[49m\u001b[43m)\u001b[49m\n\u001b[1;32m    275\u001b[0m     conv_list\u001b[38;5;241m.\u001b[39mappend(conv)\n\u001b[1;32m    276\u001b[0m     i \u001b[38;5;241m+\u001b[39m\u001b[38;5;241m=\u001b[39m \u001b[38;5;241m1\u001b[39m\n",
      "File \u001b[0;32m~/miniconda3/lib/python3.12/site-packages/ipfn/ipfn.py:110\u001b[0m, in \u001b[0;36mipfn.ipfn_np\u001b[0;34m(self, m, aggregates, dimensions, weight_col)\u001b[0m\n\u001b[1;32m    108\u001b[0m     table_update \u001b[38;5;241m=\u001b[39m tables[inc \u001b[38;5;241m+\u001b[39m \u001b[38;5;241m1\u001b[39m]\n\u001b[1;32m    109\u001b[0m     table_current \u001b[38;5;241m=\u001b[39m tables[inc]\n\u001b[0;32m--> 110\u001b[0m \u001b[43m\u001b[49m\u001b[38;5;28;43;01mfor\u001b[39;49;00m\u001b[43m \u001b[49m\u001b[43mdimension\u001b[49m\u001b[43m \u001b[49m\u001b[38;5;129;43;01min\u001b[39;49;00m\u001b[43m \u001b[49m\u001b[43mdimensions\u001b[49m\u001b[43m[\u001b[49m\u001b[43minc\u001b[49m\u001b[43m]\u001b[49m\u001b[43m:\u001b[49m\n\u001b[1;32m    111\u001b[0m \u001b[43m    \u001b[49m\u001b[43mproduct_elem\u001b[49m\u001b[38;5;241;43m.\u001b[39;49m\u001b[43mappend\u001b[49m\u001b[43m(\u001b[49m\u001b[38;5;28;43mrange\u001b[39;49m\u001b[43m(\u001b[49m\u001b[43mm\u001b[49m\u001b[38;5;241;43m.\u001b[39;49m\u001b[43mshape\u001b[49m\u001b[43m[\u001b[49m\u001b[43mdimension\u001b[49m\u001b[43m]\u001b[49m\u001b[43m)\u001b[49m\u001b[43m)\u001b[49m\n\u001b[1;32m    112\u001b[0m \u001b[38;5;28;01mfor\u001b[39;00m item \u001b[38;5;129;01min\u001b[39;00m product(\u001b[38;5;241m*\u001b[39mproduct_elem):\n",
      "\u001b[0;31mTypeError\u001b[0m: 'int' object is not iterable"
     ]
    }
   ],
   "source": [
    "import numpy as np\n",
    "# from ipfn import ipfn\n",
    "import ipfn\n",
    "\n",
    "\n",
    "# Initial guess: uniform ones\n",
    "initial_guess = np.ones((num_qualifications, num_ages, num_sexes))\n",
    "dimensions = [num_qualifications, num_ages, num_sexes]\n",
    "\n",
    "\n",
    "# Define aggregates (constraints)\n",
    "print(qual_sex_marginal)\n",
    "print(age_sex_marginal)\n",
    "aggregates = [qual_sex_marginal, age_sex_marginal]\n",
    "# aggregates = [\n",
    "#     {'dim': [0, 2], 'total': qual_sex_marginal},   # qualification × sex\n",
    "#     {'dim': [1, 2], 'total': age_sex_marginal}    # age × sex\n",
    "# ]\n",
    "\n",
    "# Apply IPF\n",
    "ipf_fitter = ipfn.ipfn.ipfn(initial_guess, aggregates, dimensions)\n",
    "fitted_joint = ipf_fitter.iteration()\n",
    "\n",
    "print(\"Fitted joint shape:\", fitted_joint.shape)  # (qualifications, ages, sexes)\n"
   ]
  },
  {
   "cell_type": "code",
   "execution_count": null,
   "metadata": {},
   "outputs": [],
   "source": []
  },
  {
   "cell_type": "code",
   "execution_count": null,
   "metadata": {},
   "outputs": [],
   "source": []
  }
 ],
 "metadata": {
  "kernelspec": {
   "display_name": "base",
   "language": "python",
   "name": "python3"
  },
  "language_info": {
   "codemirror_mode": {
    "name": "ipython",
    "version": 3
   },
   "file_extension": ".py",
   "mimetype": "text/x-python",
   "name": "python",
   "nbconvert_exporter": "python",
   "pygments_lexer": "ipython3",
   "version": "3.12.4"
  }
 },
 "nbformat": 4,
 "nbformat_minor": 2
}
